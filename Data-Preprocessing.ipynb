{
 "cells": [
  {
   "cell_type": "code",
   "execution_count": 6,
   "id": "a5e46720-b672-41f7-b842-4dbcbc0c65a7",
   "metadata": {},
   "outputs": [
    {
     "name": "stdout",
     "output_type": "stream",
     "text": [
      "                                              Lyrics  \\\n",
      "0                     In a few weeks I will get time   \n",
      "1               To realize it's right before my eyes   \n",
      "2        And I can take it if it's what I want to do   \n",
      "3  And I am leaving and this is starting to feel ...   \n",
      "4                          It's right before my eyes   \n",
      "\n",
      "                                    Processed Lyrics  \\\n",
      "0                     in a few weeks i will get time   \n",
      "1                to realize its right before my eyes   \n",
      "2         and i can take it if its what i want to do   \n",
      "3  and i am leaving and this is starting to feel ...   \n",
      "4                           its right before my eyes   \n",
      "\n",
      "               Cleaned Lyrics  \n",
      "0              weeks get time  \n",
      "1          realize right eyes  \n",
      "2                   take want  \n",
      "3  leaving starting feel like  \n",
      "4                  right eyes  \n"
     ]
    },
    {
     "name": "stderr",
     "output_type": "stream",
     "text": [
      "[nltk_data] Downloading package punkt to\n",
      "[nltk_data]     C:\\Users\\User\\AppData\\Roaming\\nltk_data...\n",
      "[nltk_data]   Package punkt is already up-to-date!\n",
      "[nltk_data] Downloading package stopwords to\n",
      "[nltk_data]     C:\\Users\\User\\AppData\\Roaming\\nltk_data...\n",
      "[nltk_data]   Package stopwords is already up-to-date!\n"
     ]
    }
   ],
   "source": [
    "import pandas as pd\n",
    "import nltk\n",
    "from nltk.corpus import stopwords\n",
    "from nltk.tokenize import word_tokenize\n",
    "import re\n",
    "\n",
    "# Download required NLTK data\n",
    "nltk.download('punkt')\n",
    "nltk.download('stopwords')\n",
    "\n",
    "# Load the dataset\n",
    "data = pd.read_csv('whatyouknow.csv')\n",
    "if 'Lyrics' not in data.columns:\n",
    "    raise KeyError(\"The dataset does not contain a 'Lyrics' column.\")\n",
    "\n",
    "lyrics = data['Lyrics'].fillna('')  # Handle missing or NaN values\n",
    "\n",
    "# Combined lowercase conversion and punctuation removal\n",
    "def preprocess_lyrics(text):\n",
    "    text = text.lower()  # Convert to lowercase\n",
    "    text = re.sub(r'[^\\w\\s]', '', text)  # Remove punctuation (only keeping words and spaces)\n",
    "    return text\n",
    "\n",
    "# Clean lyrics by removing stopwords\n",
    "def clean_lyrics(text):\n",
    "    tokens = word_tokenize(text)  # Tokenize words\n",
    "    stop_words = set(stopwords.words('english'))  # Get stopwords\n",
    "    tokens = [word for word in tokens if word not in stop_words]  # Remove stopwords\n",
    "    return ' '.join(tokens) if tokens else ''  # Handle empty tokens\n",
    "\n",
    "# Apply transformations\n",
    "data['Processed Lyrics'] = data['Lyrics'].fillna('').apply(preprocess_lyrics)\n",
    "data['Cleaned Lyrics'] = data['Processed Lyrics'].apply(clean_lyrics)\n",
    "\n",
    "# Save the cleaned lyrics to a new CSV file\n",
    "data.to_csv(\"whatyouknow_cleaned.csv\", index=False)\n",
    "\n",
    "print(data.head())  # Print the first few rows to check the transformations\n"
   ]
  },
  {
   "cell_type": "code",
   "execution_count": null,
   "id": "12761123-4f58-496a-9340-686d205cd266",
   "metadata": {},
   "outputs": [],
   "source": []
  }
 ],
 "metadata": {
  "kernelspec": {
   "display_name": "Python 3 (ipykernel)",
   "language": "python",
   "name": "python3"
  },
  "language_info": {
   "codemirror_mode": {
    "name": "ipython",
    "version": 3
   },
   "file_extension": ".py",
   "mimetype": "text/x-python",
   "name": "python",
   "nbconvert_exporter": "python",
   "pygments_lexer": "ipython3",
   "version": "3.12.4"
  }
 },
 "nbformat": 4,
 "nbformat_minor": 5
}
